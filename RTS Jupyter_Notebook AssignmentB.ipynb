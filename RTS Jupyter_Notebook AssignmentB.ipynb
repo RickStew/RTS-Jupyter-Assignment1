{
  "metadata": {
    "kernelspec": {
      "name": "python",
      "display_name": "Pyolite",
      "language": "python"
    },
    "language_info": {
      "codemirror_mode": {
        "name": "python",
        "version": 3
      },
      "file_extension": ".py",
      "mimetype": "text/x-python",
      "name": "python",
      "nbconvert_exporter": "python",
      "pygments_lexer": "ipython3",
      "version": "3.8"
    }
  },
  "nbformat_minor": 4,
  "nbformat": 4,
  "cells": [
    {
      "cell_type": "markdown",
      "source": "<center>\n    <img src=\"https://cf-courses-data.s3.us.cloud-object-storage.appdomain.cloud/IBMDeveloperSkillsNetwork-DS0105EN-SkillsNetwork/labs/Module2/images/SN_web_lightmode.png\" width=\"300\" alt=\"cognitiveclass.ai logo\">\n</center>\n",
      "metadata": {}
    },
    {
      "cell_type": "markdown",
      "source": "#### Add your code below following the instructions given in the course\n",
      "metadata": {}
    },
    {
      "cell_type": "markdown",
      "source": "# H1: **Data Science Tools and Ecosystem**",
      "metadata": {}
    },
    {
      "cell_type": "markdown",
      "source": "***Data Science Tools and Ecosystem are discussed in this notebook***",
      "metadata": {}
    },
    {
      "cell_type": "markdown",
      "source": "*A List of some of the Popular Data Science Languages*\n- Python\n- R\n- SQL\n- Javascript\n- scala\n- Julia\n- C++\n- Php\n- Visual Basic\n- Ruby\n- Go",
      "metadata": {}
    },
    {
      "cell_type": "markdown",
      "source": "*A List of some of the common Data Science Libraries*\n- Tensorflow\n- Numpy\n- Pandas\n- Matplotlib\n- Sccikit\n- Vegas\n- Gpolt2\n- Apache spark\n- Keras\n- Seaborn\n- Pytorch\n- Big DL\n",
      "metadata": {}
    },
    {
      "cell_type": "markdown",
      "source": "*Table of Data Science Tools*\n|Tool|Use-Case|\n|------|------|\n|Python|Data Cleaning, Manipulation & Visualisation|\n|Apache Spark|Analytical engine for processing large data sets|\n|Tableau|Interactice Data Visualisation Tool|\n|Matplotlib|Plotting Library for Python|",
      "metadata": {}
    },
    {
      "cell_type": "markdown",
      "source": "# H1 *You will find below a few examples for evaluating arithmetic expressions in python*",
      "metadata": {}
    },
    {
      "cell_type": "code",
      "source": "# This is a  Basic Arithmetic application multiply then add\na=3\nb=4\nc=5\nprint ((a*b)+c)",
      "metadata": {
        "trusted": true
      },
      "execution_count": 9,
      "outputs": [
        {
          "name": "stdout",
          "text": "17\n",
          "output_type": "stream"
        }
      ]
    },
    {
      "cell_type": "code",
      "source": "# Minutes to Hours Calculator application\nminutes=200\nhours=(minutes/60)\nprint (hours)",
      "metadata": {
        "trusted": true
      },
      "execution_count": 10,
      "outputs": [
        {
          "name": "stdout",
          "text": "3.3333333333333335\n",
          "output_type": "stream"
        }
      ]
    },
    {
      "cell_type": "markdown",
      "source": "**LIST OF OBJECTIVES:**\n- Add comments to code cells\n- Generate markdown cells\n- Format headings and content of markdown cells\n- Demonstrate adding ordered and unordered list to markdown cells",
      "metadata": {}
    },
    {
      "cell_type": "markdown",
      "source": "# H2:  Author: Roderick Stewart",
      "metadata": {}
    },
    {
      "cell_type": "code",
      "source": "",
      "metadata": {},
      "execution_count": null,
      "outputs": []
    }
  ]
}