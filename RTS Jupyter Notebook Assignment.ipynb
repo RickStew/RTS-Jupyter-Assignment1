{
  "metadata": {
    "kernelspec": {
      "name": "python",
      "display_name": "Pyolite",
      "language": "python"
    },
    "language_info": {
      "codemirror_mode": {
        "name": "python",
        "version": 3
      },
      "file_extension": ".py",
      "mimetype": "text/x-python",
      "name": "python",
      "nbconvert_exporter": "python",
      "pygments_lexer": "ipython3",
      "version": "3.8"
    }
  },
  "nbformat_minor": 4,
  "nbformat": 4,
  "cells": [
    {
      "cell_type": "markdown",
      "source": "<center>\n    <img src=\"https://cf-courses-data.s3.us.cloud-object-storage.appdomain.cloud/IBMDeveloperSkillsNetwork-DS0105EN-SkillsNetwork/labs/Module2/images/SN_web_lightmode.png\" width=\"300\" alt=\"cognitiveclass.ai logo\">\n</center>\n",
      "metadata": {}
    },
    {
      "cell_type": "markdown",
      "source": "#### Add your code below following the instructions given in the course\n",
      "metadata": {}
    },
    {
      "cell_type": "markdown",
      "source": "**RTS Jupyter Notebook Assignment**",
      "metadata": {}
    },
    {
      "cell_type": "markdown",
      "source": "***Introduction***",
      "metadata": {}
    },
    {
      "cell_type": "markdown",
      "source": "*List of Data Science Languages*\n- Python\n- R\n- SQL\n- Java",
      "metadata": {}
    },
    {
      "cell_type": "markdown",
      "source": "*List of Data Science Libraries*\n- Tensorflow\n- Numpy\n- Pandas\n- Matplotlib",
      "metadata": {}
    },
    {
      "cell_type": "markdown",
      "source": "*Table of Data Science Tools*\n|Tool|Use-Case|\n|------|------|\n|Python|Data Cleaning, Manipulation & Visualisation|\n|Apache Spark|Analytical engine for processing large data sets|\n|Tableau|Interactice Data Visualisation Tool|\n|Matplotlib|Plotting Library for Python|",
      "metadata": {}
    },
    {
      "cell_type": "markdown",
      "source": "*Arithmetics Expressions*\n1 + 4 = 5",
      "metadata": {}
    },
    {
      "cell_type": "code",
      "source": "# Basic Arithmetic application\na=1\nb=4\nprint ((a+b)*b)",
      "metadata": {
        "trusted": true
      },
      "execution_count": 4,
      "outputs": [
        {
          "name": "stdout",
          "text": "20\n",
          "output_type": "stream"
        }
      ]
    },
    {
      "cell_type": "code",
      "source": "# Minutes to Hours Coverter application\nminutes=1500\nhours=(minutes/60)\nprint (hours)",
      "metadata": {
        "trusted": true
      },
      "execution_count": 8,
      "outputs": [
        {
          "name": "stdout",
          "text": "25.0\n",
          "output_type": "stream"
        }
      ]
    },
    {
      "cell_type": "markdown",
      "source": "**LIST OF OBJECTIVES**\n- 1\n- 2\n- 3\n- 4\n- 5\n- 6\n- 7\n- 8\n- 9\n- 10",
      "metadata": {}
    },
    {
      "cell_type": "markdown",
      "source": "***Author's Name:_____________________________________________________***",
      "metadata": {}
    },
    {
      "cell_type": "code",
      "source": "",
      "metadata": {},
      "execution_count": null,
      "outputs": []
    }
  ]
}